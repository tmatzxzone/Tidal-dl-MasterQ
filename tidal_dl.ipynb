{
  "nbformat": 4,
  "nbformat_minor": 0,
  "metadata": {
    "colab": {
      "name": "tidal-dl.ipynb",
      "provenance": [],
      "authorship_tag": "ABX9TyMXLTnMSRq6hY7T5ZpfAeH2",
      "include_colab_link": true
    },
    "kernelspec": {
      "name": "python3",
      "display_name": "Python 3"
    },
    "language_info": {
      "name": "python"
    }
  },
  "cells": [
    {
      "cell_type": "markdown",
      "metadata": {
        "id": "view-in-github",
        "colab_type": "text"
      },
      "source": [
        "<a href=\"https://colab.research.google.com/github/tmatzxzone/tidal-dl-masterQ/blob/main/tidal_dl.ipynb\" target=\"_parent\"><img src=\"https://colab.research.google.com/assets/colab-badge.svg\" alt=\"Open In Colab\"/></a>"
      ]
    },
    {
      "cell_type": "markdown",
      "source": [
        "### <font size=\"6\" color=\"white\">[Tidal-Media-Downloader](https://github.com/yaronzz/Tidal-Media-Downloader)</font>"
      ],
      "metadata": {
        "id": "UIOSEOdVKO-J"
      }
    },
    {
      "cell_type": "code",
      "execution_count": null,
      "metadata": {
        "id": "2XOo-Rw6q2eu",
        "cellView": "form"
      },
      "outputs": [],
      "source": [
        "\n",
        "#@title __Mount Google Drive and Install dependencies:__ { run: \"auto\" }\n",
        "#@markdown ###Just run the cell below to start !tidal-dl\n",
        "\n",
        "#@markdown ###Notes: \n",
        "#@markdown ###Downloading MQA files should be possible after entering 5 (Select APIKey) and then 1 (FireTV/Master Only).\n",
        "\n",
        "from IPython.display import clear_output\n",
        "from google.colab import drive\n",
        "drive.mount('/content/drive', force_remount=True)\n",
        "clear_output()\n",
        "!echo 'Updating:'\n",
        "!sudo apt-get update -y\n",
        "clear_output()\n",
        "!echo 'Updating:'\n",
        "!sudo apt-get upgrade -y\n",
        "clear_output()\n",
        "!echo 'Installing dependencies:'\n",
        "!python3 -m pip install --upgrade tidal-dl\n",
        "clear_output()"
      ]
    },
    {
      "cell_type": "code",
      "source": [
        "!tidal-dl"
      ],
      "metadata": {
        "id": "ckLHIzbUq4MU"
      },
      "execution_count": null,
      "outputs": []
    }
  ]
}